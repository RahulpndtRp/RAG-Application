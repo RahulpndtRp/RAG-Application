{
 "cells": [
  {
   "cell_type": "markdown",
   "metadata": {},
   "source": [
    "## Build a PDF ingestion and Question/Answering system"
   ]
  },
  {
   "cell_type": "markdown",
   "metadata": {},
   "source": [
    "#### Loading Documents"
   ]
  },
  {
   "cell_type": "code",
   "execution_count": 2,
   "metadata": {},
   "outputs": [
    {
     "name": "stdout",
     "output_type": "stream",
     "text": [
      "106\n"
     ]
    }
   ],
   "source": [
    "from langchain_community.document_loaders import PyPDFLoader\n",
    "\n",
    "file_path = \"../Datastore/docs/414759-1-_5_Nike-NPS-Combo_Form-10-K_WR.pdf\"\n",
    "loader = PyPDFLoader(file_path)\n",
    "\n",
    "docs = loader.load()\n",
    "\n",
    "print(len(docs))"
   ]
  },
  {
   "cell_type": "code",
   "execution_count": 3,
   "metadata": {},
   "outputs": [
    {
     "name": "stdout",
     "output_type": "stream",
     "text": [
      "FORM 10-K FORM 10-K\n",
      "{'source': '../Datastore/docs/414759-1-_5_Nike-NPS-Combo_Form-10-K_WR.pdf', 'page': 0}\n"
     ]
    }
   ],
   "source": [
    "print(docs[0].page_content[0:100])\n",
    "print(docs[0].metadata)"
   ]
  },
  {
   "cell_type": "markdown",
   "metadata": {},
   "source": [
    "## Load Model Nvidia using Nvidia Endpoints"
   ]
  },
  {
   "cell_type": "code",
   "execution_count": 4,
   "metadata": {},
   "outputs": [],
   "source": [
    "from langchain_nvidia_ai_endpoints import NVIDIAEmbeddings, ChatNVIDIA\n",
    "\n",
    "embedder = NVIDIAEmbeddings(model=\"NV-Embed-QA\")\n",
    "llm = ChatNVIDIA(model=\"meta/llama-3.1-405b-instruct\")"
   ]
  },
  {
   "cell_type": "code",
   "execution_count": 5,
   "metadata": {},
   "outputs": [],
   "source": [
    "from langchain_core.vectorstores import InMemoryVectorStore\n",
    "from langchain_openai import OpenAIEmbeddings\n",
    "from langchain_text_splitters import RecursiveCharacterTextSplitter\n",
    "\n",
    "text_splitter = RecursiveCharacterTextSplitter(chunk_size=1000, chunk_overlap=200)\n",
    "splits = text_splitter.split_documents(docs)\n",
    "vectorstore = InMemoryVectorStore.from_documents(\n",
    "    documents=splits, embedding=embedder\n",
    ")\n",
    "\n",
    "retriever = vectorstore.as_retriever()"
   ]
  },
  {
   "cell_type": "code",
   "execution_count": 6,
   "metadata": {},
   "outputs": [],
   "source": [
    "from langchain.chains import create_retrieval_chain\n",
    "from langchain.chains.combine_documents import create_stuff_documents_chain\n",
    "from langchain_core.prompts import ChatPromptTemplate"
   ]
  },
  {
   "cell_type": "code",
   "execution_count": 7,
   "metadata": {},
   "outputs": [],
   "source": [
    "system_prompt = (\n",
    "    \"You are an assistant for question-answering tasks. \"\n",
    "    \"Use the following pieces of retrieved context to answer \"\n",
    "    \"the question. If you don't know the answer, say that you \"\n",
    "    \"don't know. Use three sentences maximum and keep the \"\n",
    "    \"answer concise.\"\n",
    "    \"\\n\\n\"\n",
    "    \"{context}\"\n",
    ")\n",
    "\n",
    "prompt = ChatPromptTemplate.from_messages(\n",
    "    [\n",
    "        (\"system\", system_prompt),\n",
    "        (\"human\", \"{input}\"),\n",
    "    ]\n",
    ")\n"
   ]
  },
  {
   "cell_type": "code",
   "execution_count": 8,
   "metadata": {},
   "outputs": [],
   "source": [
    "question_answer_chain = create_stuff_documents_chain(llm, prompt)\n",
    "rag_chain = create_retrieval_chain(retriever, question_answer_chain)\n"
   ]
  },
  {
   "cell_type": "code",
   "execution_count": 9,
   "metadata": {},
   "outputs": [
    {
     "data": {
      "text/plain": [
       "{'input': \"What was Nike's revenue in 2023?\",\n",
       " 'context': [Document(id='d9c99b6d-8cb6-42bb-8288-f815c6f34a6c', metadata={'source': '../Datastore/docs/414759-1-_5_Nike-NPS-Combo_Form-10-K_WR.pdf', 'page': 36}, page_content='FISCAL 2023 NIKE BRAND REVENUE HIGHLIGHTS\\nThe following tables present NIKE Brand revenues disaggregated by reportable operating segment, distribution channel and \\nmajor product line:\\nFISCAL 2023 COMPARED TO FISCAL 2022\\n•NIKE, Inc. Revenues were $51.2 billion in fiscal 2023, which increased 10% and 16% compared to fiscal 2022 on a reported \\nand currency-neutral basis, respectively. The increase was due to higher revenues in North America, Europe, Middle East & \\nAfrica (\"EMEA\"), APLA and Greater China, which contributed approximately 7, 6, 2 and 1 percentage points to NIKE, Inc. \\nRevenues, respectively. \\n•NIKE Brand revenues, which represented over 90% of NIKE, Inc. Revenues,  increased  10% and 16% on a reported and \\ncurrency-neutral basis, respectively. This increase was primarily due to higher revenues in Men\\'s, the Jordan Brand, \\nWomen\\'s and Kids\\' which grew 17%, 35%,11% and 10%, respectively, on a wholesale equivalent basis.'),\n",
       "  Document(id='776cc446-8233-4786-99b0-a5edde83d21f', metadata={'source': '../Datastore/docs/414759-1-_5_Nike-NPS-Combo_Form-10-K_WR.pdf', 'page': 36}, page_content='apparel revenue growth. Higher ASP was primarily due to higher full-price ASP and growth in the size of our NIKE \\nDirect business, partially offset by lower NIKE Direct ASP, reflecting higher promotional activity.\\n•NIKE Direct revenues increased 14% from $18.7 billion in fiscal 2022 to $21.3 billion in fiscal 2023. On a currency-neutral \\nbasis, NIKE Direct revenues increased 20% primarily driven by NIKE Brand Digital sales growth of 24%, comparable store \\nsales growth of 14% and the addition of new stores. For further information regarding comparable store sales, including the \\ndefinition, see \"Comparable Store Sales\". NIKE Brand Digital sales were $12.6 billion for fiscal 2023 compared to \\n$10.7 billion for fiscal 2022.\\n2023 FORM 10-K   33    28%\\nEMEA13%\\nAPLA44%\\nNorth\\nAmerica\\n15%\\nGreater\\nChina56%\\nWholesale\\n44%\\nNIKE\\nDirect28%\\nApparel4%\\nEquipment68%\\nFootwear'),\n",
       "  Document(id='fed56150-361a-4585-b968-d1ac7840983c', metadata={'source': '../Datastore/docs/414759-1-_5_Nike-NPS-Combo_Form-10-K_WR.pdf', 'page': 87}, page_content=\"Consumer  6,993  3,644  3,777  1,956  —  16,370  766  —  17,136 \\nOther  —  —  —  —  25  25  86  40  151 \\nTOTAL REVENUES $ 17,179 $ 11,456 $ 8,290 $ 5,343 $ 25 $ 42,293 $ 2,205 $ 40 $ 44,538 \\n(1)  Refer to Note 18 — Acquisitions and Divestitures for additional information on the transition of the Company's NIKE Brand business in Brazil to a third-\\nparty distributor.\\nFor the fiscal years ended May 31, 2023, 2022 and 2021, Global Brand Divisions revenues include NIKE Brand licensing and \\nother miscellaneous revenues that are not part of a geographic operating segment. Converse Other revenues were primarily \\nattributable to licensing businesses. Corporate revenues primarily consisted of foreign currency hedge gains and losses related \\nto revenues generated by entities within the NIKE Brand geographic operating segments and Converse but managed through the \\nCompany's central foreign exchange risk management program.\"),\n",
       "  Document(id='2f365f45-8448-40f4-bd22-dc619737f877', metadata={'source': '../Datastore/docs/414759-1-_5_Nike-NPS-Combo_Form-10-K_WR.pdf', 'page': 89}, page_content='YEAR ENDED MAY 31,\\n(Dollars in millions) 2023 2022 2021\\nREVENUES\\nNorth America $ 21,608 $ 18,353 $ 17,179 \\nEurope, Middle East & Africa  13,418  12,479  11,456 \\nGreater China  7,248  7,547  8,290 \\nAsia Pacific & Latin America  6,431  5,955  5,343 \\nGlobal Brand Divisions  58  102  25 \\nTotal NIKE Brand  48,763  44,436  42,293 \\nConverse  2,427  2,346  2,205 \\nCorporate  27  (72)  40 \\nTOTAL NIKE, INC. REVENUES $ 51,217 $ 46,710 $ 44,538 \\nEARNINGS BEFORE INTEREST AND TAXES\\nNorth America $ 5,454 $ 5,114 $ 5,089 \\nEurope, Middle East & Africa  3,531  3,293  2,435 \\nGreater China  2,283  2,365  3,243 \\nAsia Pacific & Latin America  1,932  1,896  1,530 \\nGlobal Brand Divisions  (4,841)  (4,262)  (3,656) \\nConverse  676  669  543 \\nCorporate  (2,840)  (2,219)  (2,261) \\nInterest expense (income), net  (6)  205  262 \\nTOTAL NIKE, INC. INCOME BEFORE INCOME TAXES $ 6,201 $ 6,651 $ 6,661 \\nADDITIONS TO PROPERTY, PLANT AND EQUIPMENT\\nNorth America $ 283 $ 146 $ 98 \\nEurope, Middle East & Africa  215  197  153')],\n",
       " 'answer': 'NIKE, Inc. revenues were $51.2 billion in fiscal 2023, which was a 10% increase compared to fiscal 2022.'}"
      ]
     },
     "execution_count": 9,
     "metadata": {},
     "output_type": "execute_result"
    }
   ],
   "source": [
    "\n",
    "results = rag_chain.invoke({\"input\": \"What was Nike's revenue in 2023?\"})\n",
    "\n",
    "results"
   ]
  },
  {
   "cell_type": "code",
   "execution_count": 10,
   "metadata": {},
   "outputs": [
    {
     "name": "stdout",
     "output_type": "stream",
     "text": [
      "FISCAL 2023 NIKE BRAND REVENUE HIGHLIGHTS\n",
      "The following tables present NIKE Brand revenues disaggregated by reportable operating segment, distribution channel and \n",
      "major product line:\n",
      "FISCAL 2023 COMPARED TO FISCAL 2022\n",
      "•NIKE, Inc. Revenues were $51.2 billion in fiscal 2023, which increased 10% and 16% compared to fiscal 2022 on a reported \n",
      "and currency-neutral basis, respectively. The increase was due to higher revenues in North America, Europe, Middle East & \n",
      "Africa (\"EMEA\"), APLA and Greater China, which contributed approximately 7, 6, 2 and 1 percentage points to NIKE, Inc. \n",
      "Revenues, respectively. \n",
      "•NIKE Brand revenues, which represented over 90% of NIKE, Inc. Revenues,  increased  10% and 16% on a reported and \n",
      "currency-neutral basis, respectively. This increase was primarily due to higher revenues in Men's, the Jordan Brand, \n",
      "Women's and Kids' which grew 17%, 35%,11% and 10%, respectively, on a wholesale equivalent basis.\n"
     ]
    }
   ],
   "source": [
    "print(results[\"context\"][0].page_content)"
   ]
  },
  {
   "cell_type": "code",
   "execution_count": 11,
   "metadata": {},
   "outputs": [
    {
     "name": "stdout",
     "output_type": "stream",
     "text": [
      "{'source': '../Datastore/docs/414759-1-_5_Nike-NPS-Combo_Form-10-K_WR.pdf', 'page': 36}\n"
     ]
    }
   ],
   "source": [
    "print(results[\"context\"][0].metadata)"
   ]
  },
  {
   "cell_type": "code",
   "execution_count": null,
   "metadata": {},
   "outputs": [],
   "source": []
  },
  {
   "cell_type": "code",
   "execution_count": null,
   "metadata": {},
   "outputs": [],
   "source": []
  }
 ],
 "metadata": {
  "kernelspec": {
   "display_name": "rag-application-hcl-8jQ8-py3.12",
   "language": "python",
   "name": "python3"
  },
  "language_info": {
   "codemirror_mode": {
    "name": "ipython",
    "version": 3
   },
   "file_extension": ".py",
   "mimetype": "text/x-python",
   "name": "python",
   "nbconvert_exporter": "python",
   "pygments_lexer": "ipython3",
   "version": "3.12.6"
  }
 },
 "nbformat": 4,
 "nbformat_minor": 2
}
